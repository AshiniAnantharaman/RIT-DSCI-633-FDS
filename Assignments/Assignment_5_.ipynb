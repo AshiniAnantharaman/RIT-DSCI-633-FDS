{
  "nbformat": 4,
  "nbformat_minor": 0,
  "metadata": {
    "colab": {
      "name": "Assignment 5 .ipynb",
      "provenance": [],
      "collapsed_sections": [],
      "authorship_tag": "ABX9TyOB5ThO3TyuGdECXY978Dxu",
      "include_colab_link": true
    },
    "kernelspec": {
      "name": "python3",
      "display_name": "Python 3"
    },
    "language_info": {
      "name": "python"
    }
  },
  "cells": [
    {
      "cell_type": "markdown",
      "metadata": {
        "id": "view-in-github",
        "colab_type": "text"
      },
      "source": [
        "<a href=\"https://colab.research.google.com/github/AshiniAnantharaman/RIT-DSCI-633-FDS/blob/main/Assignments/Assignment_5_.ipynb\" target=\"_parent\"><img src=\"https://colab.research.google.com/assets/colab-badge.svg\" alt=\"Open In Colab\"/></a>"
      ]
    },
    {
      "cell_type": "markdown",
      "metadata": {
        "id": "u5Bw69bYgEKy"
      },
      "source": [
        "# 1.   Import NN Libraries\n",
        "\n",
        "\n",
        "\n",
        "\n"
      ]
    },
    {
      "cell_type": "code",
      "metadata": {
        "id": "8li9rgYhgS61"
      },
      "source": [
        "import pandas as pd\n",
        "import numpy as np\n",
        "import seaborn as sns\n",
        "import tensorflow as tf"
      ],
      "execution_count": 2,
      "outputs": []
    },
    {
      "cell_type": "markdown",
      "metadata": {
        "id": "ubkN02rwgsFF"
      },
      "source": [
        "# 2. Load the data from MNIST using Keras"
      ]
    },
    {
      "cell_type": "code",
      "metadata": {
        "colab": {
          "base_uri": "https://localhost:8080/"
        },
        "id": "m_W5x2mzgm-2",
        "outputId": "a466e806-93e0-4b4c-b35e-168379ac497b"
      },
      "source": [
        "mnist_dataset = tf.keras.datasets.mnist.load_data(path=\"mnist.npz\")\n",
        " \n",
        "(X_train, y_train), (X_test, y_test) = mnist_dataset\n",
        "# mnist_dataset\n",
        "print(X_train.shape)\n",
        "print(y_train.shape)\n",
        " \n",
        "print(X_test.shape)\n",
        "print(y_test.shape)"
      ],
      "execution_count": 33,
      "outputs": [
        {
          "output_type": "stream",
          "name": "stdout",
          "text": [
            "(60000, 28, 28)\n",
            "(60000,)\n",
            "(10000, 28, 28)\n",
            "(10000,)\n"
          ]
        }
      ]
    },
    {
      "cell_type": "markdown",
      "metadata": {
        "id": "_CNNZOsJ62Os"
      },
      "source": [
        "# 3. Plot the image for each category of the index(i)"
      ]
    },
    {
      "cell_type": "code",
      "metadata": {
        "colab": {
          "base_uri": "https://localhost:8080/",
          "height": 268
        },
        "id": "2cFSTdQJqfQ8",
        "outputId": "f95da597-3a2e-45b4-a698-5d74fcbb70b8"
      },
      "source": [
        "from matplotlib import pyplot\n",
        "for i in range(9):  \n",
        "  pyplot.subplot(330 + 1 + i)\n",
        "  pyplot.imshow(X_train[i], cmap=pyplot.get_cmap('gray'))\n",
        "pyplot.show()"
      ],
      "execution_count": 34,
      "outputs": [
        {
          "output_type": "display_data",
          "data": {
            "image/png": "[encoded data removed]",
            "text/plain": [
              "<Figure size 432x288 with 9 Axes>"
            ]
          },
          "metadata": {
            "needs_background": "light"
          }
        }
      ]
    },
    {
      "cell_type": "markdown",
      "metadata": {
        "id": "XOTtmVzi7Fs1"
      },
      "source": [
        "# 4. Re-shape the X-train and X-test data with the 28 * 28 pixels"
      ]
    },
    {
      "cell_type": "code",
      "metadata": {
        "id": "fFpw2PDQq2mq",
        "colab": {
          "base_uri": "https://localhost:8080/"
        },
        "outputId": "2cc11998-119f-41be-8b76-80c1d23fe484"
      },
      "source": [
        "# Reshape data\n",
        "\n",
        "X_train = X_train.reshape((X_train.shape[0], 28*28)).astype('float32')\n",
        "X_test = X_test.reshape((X_test.shape[0], 28*28)).astype('float32')\n",
        "X_train.shape"
      ],
      "execution_count": 35,
      "outputs": [
        {
          "output_type": "execute_result",
          "data": {
            "text/plain": [
              "(60000, 784)"
            ]
          },
          "metadata": {},
          "execution_count": 35
        }
      ]
    },
    {
      "cell_type": "markdown",
      "metadata": {
        "id": "gXQSc9jC7aO6"
      },
      "source": [
        "# 5. Convert the range of data to be between 0 and 1 by dividing the value by 255 "
      ]
    },
    {
      "cell_type": "code",
      "metadata": {
        "id": "ZLu52psBWM6r"
      },
      "source": [
        "X_train = X_train / 255\n",
        "X_test = X_test / 255"
      ],
      "execution_count": 36,
      "outputs": []
    },
    {
      "cell_type": "markdown",
      "metadata": {
        "id": "78JqCn5zbpWs"
      },
      "source": [
        "# 6. Splitting the different classifications of the images"
      ]
    },
    {
      "cell_type": "code",
      "metadata": {
        "id": "EPIOF_Nv1jpg",
        "colab": {
          "base_uri": "https://localhost:8080/"
        },
        "outputId": "e25fcebf-8461-4b88-af6a-b35b8a26ff9d"
      },
      "source": [
        "from tensorflow.keras.utils import to_categorical, normalize\n",
        "from tensorflow.keras.models import Sequential\n",
        "from tensorflow.keras.layers import Dense, Flatten\n",
        "\n",
        "y_train = to_categorical(y_train)\n",
        "y_test = to_categorical(y_test)\n",
        "\n",
        "num_classes = y_test.shape[1]\n",
        "\n",
        "print(y_test.shape)\n",
        "\n",
        "# (The output values are 0, 1, 2, 3, 4, 5, 6, 7, 8, 9)\n"
      ],
      "execution_count": 37,
      "outputs": [
        {
          "output_type": "stream",
          "name": "stdout",
          "text": [
            "(10000, 10)\n"
          ]
        }
      ]
    },
    {
      "cell_type": "markdown",
      "metadata": {
        "id": "RC_5c5Z78WQ7"
      },
      "source": [
        "# 7. Adding the different layers of NN"
      ]
    },
    {
      "cell_type": "code",
      "metadata": {
        "id": "auJuosrt9KEJ"
      },
      "source": [
        "model = Sequential()\n",
        "model.add(Dense(32, input_dim = 28 * 28, activation= 'sigmoid'))\n",
        "model.add(Dense(64, activation = 'relu'))\n",
        "model.add(Dense(10, activation  = 'softmax'))"
      ],
      "execution_count": 38,
      "outputs": []
    },
    {
      "cell_type": "markdown",
      "metadata": {
        "id": "F5sgxAYYbL7X"
      },
      "source": [
        "# 8. Compiling the code with a learning rate of 0.01\n",
        "\n"
      ]
    },
    {
      "cell_type": "code",
      "metadata": {
        "id": "I7W8cLRIbJtd"
      },
      "source": [
        "#For the multiple classification group, the categorical cross entropy is the most appropriate\n",
        "#model.compile(loss = 'categorical_crossentropy', optimizer = 'adam', metrics = ['accuracy'])\n",
        "\n",
        "sgd = tf.keras.optimizers.SGD(learning_rate=0.01)\n",
        "model.compile(\n",
        "    optimizer=sgd, \n",
        "    loss='categorical_crossentropy', \n",
        "    metrics=['accuracy']\n",
        ")"
      ],
      "execution_count": 39,
      "outputs": []
    },
    {
      "cell_type": "code",
      "metadata": {
        "colab": {
          "base_uri": "https://localhost:8080/"
        },
        "id": "YzbkUDzfXk29",
        "outputId": "35b67b5b-3a35-460b-9ac4-660f7776e898"
      },
      "source": [
        "model.summary()"
      ],
      "execution_count": 27,
      "outputs": [
        {
          "output_type": "stream",
          "name": "stdout",
          "text": [
            "Model: \"sequential_2\"\n",
            "_________________________________________________________________\n",
            "Layer (type)                 Output Shape              Param #   \n",
            "=================================================================\n",
            "dense_6 (Dense)              (None, 32)                25120     \n",
            "_________________________________________________________________\n",
            "dense_7 (Dense)              (None, 64)                2112      \n",
            "_________________________________________________________________\n",
            "dense_8 (Dense)              (None, 10)                650       \n",
            "=================================================================\n",
            "Total params: 27,882\n",
            "Trainable params: 27,882\n",
            "Non-trainable params: 0\n",
            "_________________________________________________________________\n"
          ]
        }
      ]
    },
    {
      "cell_type": "markdown",
      "metadata": {
        "id": "eIQHOVxBb2Fw"
      },
      "source": [
        "# 9. Setting a Callback using the EarlyStopping"
      ]
    },
    {
      "cell_type": "code",
      "metadata": {
        "id": "0b4m3kMcq2Go"
      },
      "source": [
        "import math\n",
        "from livelossplot import PlotLossesKeras\n",
        "\n",
        "initial_learning_rate = 0.01\n",
        "\n",
        "def lr_exp_decay(epoch, lr):\n",
        "    k = 0.1\n",
        "    return initial_learning_rate * math.exp(-k*epoch)\n"
      ],
      "execution_count": 56,
      "outputs": []
    },
    {
      "cell_type": "code",
      "metadata": {
        "id": "hHgE3StbBYA3",
        "colab": {
          "base_uri": "https://localhost:8080/",
          "height": 707
        },
        "outputId": "9ab0784b-41fc-4f30-986c-f938d49d517a"
      },
      "source": [
        "es = tf.keras.callbacks.EarlyStopping(\n",
        "    monitor='val_loss', min_delta=0, patience=0, verbose=1,\n",
        "    mode='auto', baseline=None, restore_best_weights=False\n",
        ")\n",
        "model.fit(X_train, y_train, epochs= 100, batch_size = 100, callbacks=[PlotLossesKeras(),es,tf.keras.callbacks.LearningRateScheduler(lr_exp_decay, verbose=1)])"
      ],
      "execution_count": 57,
      "outputs": [
        {
          "output_type": "display_data",
          "data": {
            "image/png": "[encoded data removed]",
            "text/plain": [
              "<Figure size 864x576 with 2 Axes>"
            ]
          },
          "metadata": {
            "needs_background": "light"
          }
        },
        {
          "output_type": "stream",
          "name": "stdout",
          "text": [
            "accuracy\n",
            "\taccuracy         \t (min:    0.984, max:    0.986, cur:    0.985)\n",
            "Loss\n",
            "\tloss             \t (min:    0.054, max:    0.057, cur:    0.054)\n",
            "WARNING:tensorflow:Early stopping conditioned on metric `val_loss` which is not available. Available metrics are: loss,accuracy\n"
          ]
        },
        {
          "output_type": "execute_result",
          "data": {
            "text/plain": [
              "<keras.callbacks.History at 0x7f876b8e57d0>"
            ]
          },
          "metadata": {},
          "execution_count": 57
        }
      ]
    },
    {
      "cell_type": "code",
      "metadata": {
        "colab": {
          "base_uri": "https://localhost:8080/"
        },
        "id": "YquENYsgqcTv",
        "outputId": "b1f1650b-b941-43a9-dfc0-b65569272231"
      },
      "source": [
        "scores = model.evaluate(X_test, y_test)\n",
        "print('Accuracy: ',scores[1] * 100)"
      ],
      "execution_count": 61,
      "outputs": [
        {
          "output_type": "stream",
          "name": "stdout",
          "text": [
            "313/313 [==============================] - 0s 842us/step - loss: 0.0986 - accuracy: 0.9708\n",
            "Accuracy:  97.079998254776\n"
          ]
        }
      ]
    }
  ]
}